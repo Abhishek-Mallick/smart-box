{
 "cells": [
  {
   "cell_type": "code",
   "execution_count": 1,
   "metadata": {},
   "outputs": [],
   "source": [
    "import requests\n",
    "import pandas as pd\n",
    "from sklearn.model_selection import train_test_split\n",
    "from sklearn.preprocessing import StandardScaler\n",
    "from sklearn.linear_model import LinearRegression\n",
    "from sklearn.tree import DecisionTreeRegressor\n",
    "from sklearn.ensemble import RandomForestRegressor\n",
    "from sklearn.svm import SVR\n",
    "from sklearn.neighbors import KNeighborsRegressor\n",
    "from xgboost import XGBRegressor\n",
    "from sklearn.metrics import mean_squared_error, r2_score"
   ]
  },
  {
   "cell_type": "code",
   "execution_count": 19,
   "metadata": {},
   "outputs": [],
   "source": [
    "# OpenWeather API details\n",
    "API_KEY = 'YOUR_API_KEY'\n",
    "CITY = 'Kolkata'  \n",
    "URL = f'http://api.openweathermap.org/data/2.5/forecast?q={CITY}&appid={API_KEY}&units=metric'"
   ]
  },
  {
   "cell_type": "code",
   "execution_count": 3,
   "metadata": {},
   "outputs": [],
   "source": [
    "# Fetch weather data from OpenWeather API\n",
    "response = requests.get(URL)\n",
    "data = response.json()"
   ]
  },
  {
   "cell_type": "code",
   "execution_count": 4,
   "metadata": {},
   "outputs": [],
   "source": [
    "# Extract the relevant weather features and target variable\n",
    "weather_data = []\n",
    "for entry in data['list']:\n",
    "    weather = {\n",
    "        'temp': entry['main']['temp'],\n",
    "        'humidity': entry['main']['humidity'],\n",
    "        'pressure': entry['main']['pressure'],\n",
    "        'wind_speed': entry['wind']['speed'],\n",
    "        'weather_condition': entry['weather'][0]['main'],  # Categorical feature\n",
    "    }\n",
    "    weather_data.append(weather)"
   ]
  },
  {
   "cell_type": "code",
   "execution_count": 5,
   "metadata": {},
   "outputs": [],
   "source": [
    "# Convert to DataFrame\n",
    "df = pd.DataFrame(weather_data)"
   ]
  },
  {
   "cell_type": "code",
   "execution_count": 6,
   "metadata": {},
   "outputs": [],
   "source": [
    "# Convert categorical 'weather_condition' to numerical values\n",
    "df['weather_condition'] = pd.Categorical(df['weather_condition']).codes"
   ]
  },
  {
   "cell_type": "code",
   "execution_count": 7,
   "metadata": {},
   "outputs": [],
   "source": [
    "# Features and target variable\n",
    "X = df.drop(['temp'], axis=1)  # Features (Humidity, Pressure, Wind Speed, Weather Condition)\n",
    "y = df['temp']  # Target (Temperature)"
   ]
  },
  {
   "cell_type": "code",
   "execution_count": 8,
   "metadata": {},
   "outputs": [],
   "source": [
    "# Split into training and testing sets\n",
    "X_train, X_test, y_train, y_test = train_test_split(X, y, test_size=0.2, random_state=42)"
   ]
  },
  {
   "cell_type": "code",
   "execution_count": 9,
   "metadata": {},
   "outputs": [],
   "source": [
    "# Feature scaling\n",
    "scaler = StandardScaler()\n",
    "X_train_scaled = scaler.fit_transform(X_train)\n",
    "X_test_scaled = scaler.transform(X_test)"
   ]
  },
  {
   "cell_type": "code",
   "execution_count": 10,
   "metadata": {},
   "outputs": [],
   "source": [
    "# 1. Linear Regression\n",
    "lr = LinearRegression()\n",
    "lr.fit(X_train_scaled, y_train)\n",
    "y_pred_lr = lr.predict(X_test_scaled)"
   ]
  },
  {
   "cell_type": "code",
   "execution_count": 11,
   "metadata": {},
   "outputs": [],
   "source": [
    "# 2. Decision Tree\n",
    "dt = DecisionTreeRegressor(random_state=42)\n",
    "dt.fit(X_train, y_train)\n",
    "y_pred_dt = dt.predict(X_test)"
   ]
  },
  {
   "cell_type": "code",
   "execution_count": 12,
   "metadata": {},
   "outputs": [],
   "source": [
    "# 3. Random Forest\n",
    "rf = RandomForestRegressor(n_estimators=100, random_state=42)\n",
    "rf.fit(X_train, y_train)\n",
    "y_pred_rf = rf.predict(X_test)"
   ]
  },
  {
   "cell_type": "code",
   "execution_count": 13,
   "metadata": {},
   "outputs": [],
   "source": [
    "# 4. Support Vector Regressor (SVR)\n",
    "svr = SVR(kernel='rbf')\n",
    "svr.fit(X_train_scaled, y_train)\n",
    "y_pred_svr = svr.predict(X_test_scaled)"
   ]
  },
  {
   "cell_type": "code",
   "execution_count": 14,
   "metadata": {},
   "outputs": [],
   "source": [
    "# 5. K-Nearest Neighbors (KNN)\n",
    "knn = KNeighborsRegressor(n_neighbors=5)\n",
    "knn.fit(X_train_scaled, y_train)\n",
    "y_pred_knn = knn.predict(X_test_scaled)"
   ]
  },
  {
   "cell_type": "code",
   "execution_count": 15,
   "metadata": {},
   "outputs": [],
   "source": [
    "# 6. XGBoost\n",
    "xgb = XGBRegressor(n_estimators=100, random_state=42)\n",
    "xgb.fit(X_train, y_train)\n",
    "y_pred_xgb = xgb.predict(X_test)"
   ]
  },
  {
   "cell_type": "code",
   "execution_count": 16,
   "metadata": {},
   "outputs": [],
   "source": [
    "# Performance evaluation\n",
    "def evaluate_model(y_test, y_pred, model_name):\n",
    "    mse = mean_squared_error(y_test, y_pred)\n",
    "    r2 = r2_score(y_test, y_pred)\n",
    "    print(f\"\\n{model_name} Results:\")\n",
    "    print(f\"Mean Squared Error: {mse}\")\n",
    "    print(f\"R2 Score: {r2}\")"
   ]
  },
  {
   "cell_type": "code",
   "execution_count": 17,
   "metadata": {},
   "outputs": [
    {
     "name": "stdout",
     "output_type": "stream",
     "text": [
      "\n",
      "Linear Regression Results:\n",
      "Mean Squared Error: 0.19354872209777108\n",
      "R2 Score: 0.8910979492440814\n",
      "\n",
      "Decision Tree Results:\n",
      "Mean Squared Error: 1.8562749999999968\n",
      "R2 Score: -0.04445098926990276\n",
      "\n",
      "Random Forest Results:\n",
      "Mean Squared Error: 0.5804748849999901\n",
      "R2 Score: 0.6733902207999496\n",
      "\n",
      "Support Vector Regressor Results:\n",
      "Mean Squared Error: 0.2205386098505955\n",
      "R2 Score: 0.8759118292113701\n",
      "\n",
      "K-Nearest Neighbors Results:\n",
      "Mean Squared Error: 0.46805200000000086\n",
      "R2 Score: 0.7366460387443896\n",
      "\n",
      "XGBoost Results:\n",
      "Mean Squared Error: 1.0085496937375973\n",
      "R2 Score: 0.4325298108566389\n"
     ]
    }
   ],
   "source": [
    "# Evaluate all models\n",
    "evaluate_model(y_test, y_pred_lr, \"Linear Regression\")\n",
    "evaluate_model(y_test, y_pred_dt, \"Decision Tree\")\n",
    "evaluate_model(y_test, y_pred_rf, \"Random Forest\")\n",
    "evaluate_model(y_test, y_pred_svr, \"Support Vector Regressor\")\n",
    "evaluate_model(y_test, y_pred_knn, \"K-Nearest Neighbors\")\n",
    "evaluate_model(y_test, y_pred_xgb, \"XGBoost\")"
   ]
  },
  {
   "cell_type": "code",
   "execution_count": 18,
   "metadata": {},
   "outputs": [
    {
     "name": "stdout",
     "output_type": "stream",
     "text": [
      "Predicted temperature for the next day: 28.84°C\n"
     ]
    },
    {
     "name": "stderr",
     "output_type": "stream",
     "text": [
      "c:\\Users\\Deepraj\\Desktop\\universal-box\\template\\Data-Science\\Prediction\\Weather-Prediction\\venv\\Lib\\site-packages\\sklearn\\base.py:493: UserWarning: X does not have valid feature names, but StandardScaler was fitted with feature names\n",
      "  warnings.warn(\n"
     ]
    }
   ],
   "source": [
    "# Function to predict the next day's temperature using the best model (XGBoost)\n",
    "def predict_next_day_weather():\n",
    "    # Fetch the weather data\n",
    "    df \n",
    "\n",
    "    # Define features (X) and target (y)\n",
    "    X = df.drop(['temp'], axis=1)\n",
    "    y = df['temp']\n",
    "\n",
    "    # Feature scaling\n",
    "    scaler = StandardScaler()\n",
    "    X_scaled = scaler.fit_transform(X)\n",
    "\n",
    "    # Train the XGBoost model using all available data\n",
    "    model = XGBRegressor(n_estimators=100, random_state=42)\n",
    "    model.fit(X_scaled, y)\n",
    "\n",
    "    # Use the latest data point (most recent day) to predict the next day temperature\n",
    "    last_day_data = X.iloc[-1:].values  # Take the last row of data\n",
    "    last_day_data_scaled = scaler.transform(last_day_data)\n",
    "\n",
    "    # Predict the temperature for the next day\n",
    "    next_day_prediction = model.predict(last_day_data_scaled)\n",
    "    \n",
    "    return next_day_prediction[0]\n",
    "\n",
    "# Predict next day temperature\n",
    "predicted_temp = predict_next_day_weather()\n",
    "print(f\"Predicted temperature for the next day: {predicted_temp:.2f}°C\")"
   ]
  },
  {
   "cell_type": "code",
   "execution_count": null,
   "metadata": {},
   "outputs": [],
   "source": []
  }
 ],
 "metadata": {
  "kernelspec": {
   "display_name": "venv",
   "language": "python",
   "name": "python3"
  },
  "language_info": {
   "codemirror_mode": {
    "name": "ipython",
    "version": 3
   },
   "file_extension": ".py",
   "mimetype": "text/x-python",
   "name": "python",
   "nbconvert_exporter": "python",
   "pygments_lexer": "ipython3",
   "version": "3.11.0"
  }
 },
 "nbformat": 4,
 "nbformat_minor": 2
}
